{
  "cells": [
    {
      "cell_type": "markdown",
      "metadata": {
        "id": "view-in-github",
        "colab_type": "text"
      },
      "source": [
        "<a href=\"https://colab.research.google.com/github/Monocyte572/autodock-vina-Error-/blob/main/autodock.ipynb\" target=\"_parent\"><img src=\"https://colab.research.google.com/assets/colab-badge.svg\" alt=\"Open In Colab\"/></a>"
      ]
    },
    {
      "metadata": {
        "id": "9d18a880beef98be"
      },
      "cell_type": "markdown",
      "source": [
        "# smiles to pdbqt"
      ],
      "id": "9d18a880beef98be"
    },
    {
      "metadata": {
        "ExecuteTime": {
          "end_time": "2025-07-09T08:08:09.338520Z",
          "start_time": "2025-07-09T08:08:09.090349Z"
        },
        "colab": {
          "base_uri": "https://localhost:8080/"
        },
        "id": "df154768b2990a9a",
        "outputId": "6cdf8356-87e8-4faf-f7ff-768e38553011"
      },
      "cell_type": "code",
      "source": [
        "import pandas as pd\n",
        "from rdkit import Chem\n",
        "from rdkit.Chem import AllChem\n",
        "from rdkit.Chem import MolToPDBBlock\n",
        "import os\n",
        "import traceback\n",
        "\n",
        "csv_path = \"/content/train.csv\"\n",
        "output_folder = \"/content/output_folder\"\n",
        "\n",
        "df = pd.read_csv(csv_path)\n",
        "\n",
        "os.makedirs(output_folder, exist_ok=True)\n",
        "\n",
        "log_file = os.path.join(output_folder, \"error_log.txt\")\n",
        "\n",
        "success_df = pd.DataFrame(columns=df.columns)\n",
        "\n",
        "with open(log_file, \"w\") as log:\n",
        "    for index, row in df.iterrows():\n",
        "        smiles = row[\"Canonical_Smiles\"]\n",
        "        compound_name = row[\"ID\"]\n",
        "\n",
        "        try:\n",
        "            if pd.isna(smiles) or not Chem.MolFromSmiles(smiles):\n",
        "                raise ValueError(f\"Invalid SMILES in row {index + 2}\")\n",
        "\n",
        "            mol = Chem.MolFromSmiles(smiles)\n",
        "            mol = Chem.AddHs(mol)\n",
        "            AllChem.EmbedMolecule(mol)\n",
        "\n",
        "            pdbqt_filename = os.path.join(output_folder, f\"{compound_name}.pdbqt\")\n",
        "            with open(pdbqt_filename, \"w\") as pdbqt_file:\n",
        "                pdbqt_file.write(MolToPDBBlock(mol))\n",
        "\n",
        "\n",
        "            success_df = success_df.append(row, ignore_index=True)\n",
        "\n",
        "        except Exception as e:\n",
        "            log.write(f\"Error processing row {index + 2}: {str(e)}\\n\")\n",
        "            traceback.print_exc(file=log)\n",
        "\n",
        "\n",
        "success_df.to_csv(csv_path, index=False)\n",
        "\n",
        "print(\"Conversion complete. Check the error log for details.\")\n"
      ],
      "id": "df154768b2990a9a",
      "outputs": [
        {
          "output_type": "stream",
          "name": "stdout",
          "text": [
            "Conversion complete. Check the error log for details.\n"
          ]
        }
      ],
      "execution_count": null
    },
    {
      "cell_type": "code",
      "metadata": {
        "colab": {
          "base_uri": "https://localhost:8080/"
        },
        "id": "b5ad723f",
        "outputId": "513ac7a4-b307-4bbb-cecb-384b44163f92"
      },
      "source": [
        "!pip install scripts.prepare_receptor"
      ],
      "id": "b5ad723f",
      "execution_count": null,
      "outputs": [
        {
          "output_type": "stream",
          "name": "stdout",
          "text": [
            "\u001b[31mERROR: Could not find a version that satisfies the requirement scripts.prepare_receptor (from versions: none)\u001b[0m\u001b[31m\n",
            "\u001b[0m\u001b[31mERROR: No matching distribution found for scripts.prepare_receptor\u001b[0m\u001b[31m\n",
            "\u001b[0m"
          ]
        }
      ]
    },
    {
      "cell_type": "markdown",
      "source": [
        "# autodock vina"
      ],
      "metadata": {
        "id": "aF-no1r6VwcY"
      },
      "id": "aF-no1r6VwcY"
    },
    {
      "cell_type": "code",
      "source": [
        "import os, glob, subprocess\n",
        "import pandas as pd\n",
        "from tqdm import tqdm\n",
        "\n",
        "# --- 설정 ---\n",
        "receptor     = \"/content/receptor.pdbqt\"\n",
        "ligand_dir   = \"/content/output_folder\"\n",
        "output_dir   = \"/content/out_path\"\n",
        "os.makedirs(output_dir, exist_ok=True)\n",
        "\n",
        "# Grid box 설정 (예시값)\n",
        "center_x, center_y, center_z = 22.57, 22.77, 11.81\n",
        "size_x,   size_y,   size_z   = 5.58,  13.38,  10.50\n",
        "exhaustiveness = 8\n",
        "\n",
        "# --- 도킹 반복 실행 ---\n",
        "results = []\n",
        "for ligand_path in tqdm(glob.glob(os.path.join(ligand_dir, \"*.pdbqt\"))):\n",
        "    ligand_name = os.path.basename(ligand_path)\n",
        "    out_pdbqt   = os.path.join(output_dir, ligand_name.replace(\".pdbqt\", \"_out.pdbqt\"))\n",
        "    log_file    = os.path.join(output_dir, ligand_name.replace(\".pdbqt\", \".log\"))\n",
        "\n",
        "    cmd = [\n",
        "        \"vina\",\n",
        "        \"--receptor\", receptor,\n",
        "        \"--ligand\",   ligand_path,\n",
        "        \"--out\",      out_pdbqt,\n",
        "        \"--log\",      log_file,\n",
        "        \"--center_x\", str(center_x),\n",
        "        \"--center_y\", str(center_y),\n",
        "        \"--center_z\", str(center_z),\n",
        "        \"--size_x\",   str(size_x),\n",
        "        \"--size_y\",   str(size_y),\n",
        "        \"--size_z\",   str(size_z),\n",
        "        \"--exhaustiveness\", str(exhaustiveness),\n",
        "    ]\n",
        "    subprocess.run(cmd, check=True)\n",
        "\n",
        "    # 첫 번째 포즈(라인 시작이 \"1\")에서 affinity 추출\n",
        "    affinity = None\n",
        "    with open(log_file) as f:\n",
        "        for line in f:\n",
        "            if line.strip().startswith(\"1\"):\n",
        "                affinity = float(line.split()[1])\n",
        "                break\n",
        "\n",
        "    results.append({\"ligand\": ligand_name, \"affinity_kcal_per_mol\": affinity})\n",
        "\n",
        "# --- 결과 CSV로 저장 ---\n",
        "df = pd.DataFrame(results)\n",
        "csv_path = os.path.join(output_dir, \"docking_results.csv\")\n",
        "df.to_csv(csv_path, index=False)\n",
        "\n",
        "print(\"✅ 도킹 완료! 결과는\", csv_path, \"에 저장되었습니다.\")"
      ],
      "metadata": {
        "id": "is8jExqJeAP5",
        "outputId": "14e7a7dc-bdf8-45b9-dae0-4d66e56b2ecc",
        "colab": {
          "base_uri": "https://localhost:8080/",
          "height": 453
        }
      },
      "id": "is8jExqJeAP5",
      "execution_count": 27,
      "outputs": [
        {
          "output_type": "stream",
          "name": "stderr",
          "text": [
            "  0%|          | 0/1681 [00:00<?, ?it/s]\n"
          ]
        },
        {
          "output_type": "error",
          "ename": "CalledProcessError",
          "evalue": "Command '['vina', '--receptor', '/content/receptor.pdbqt', '--ligand', '/content/output_folder/TRAIN_1423.pdbqt', '--out', '/content/out_path/TRAIN_1423_out.pdbqt', '--log', '/content/out_path/TRAIN_1423.log', '--center_x', '22.57', '--center_y', '22.77', '--center_z', '11.81', '--size_x', '5.58', '--size_y', '13.38', '--size_z', '10.5', '--exhaustiveness', '8']' returned non-zero exit status 1.",
          "traceback": [
            "\u001b[0;31m---------------------------------------------------------------------------\u001b[0m",
            "\u001b[0;31mCalledProcessError\u001b[0m                        Traceback (most recent call last)",
            "\u001b[0;32m/tmp/ipython-input-27-3772355297.py\u001b[0m in \u001b[0;36m<cell line: 0>\u001b[0;34m()\u001b[0m\n\u001b[1;32m     35\u001b[0m         \u001b[0;34m\"--exhaustiveness\"\u001b[0m\u001b[0;34m,\u001b[0m \u001b[0mstr\u001b[0m\u001b[0;34m(\u001b[0m\u001b[0mexhaustiveness\u001b[0m\u001b[0;34m)\u001b[0m\u001b[0;34m,\u001b[0m\u001b[0;34m\u001b[0m\u001b[0;34m\u001b[0m\u001b[0m\n\u001b[1;32m     36\u001b[0m     ]\n\u001b[0;32m---> 37\u001b[0;31m     \u001b[0msubprocess\u001b[0m\u001b[0;34m.\u001b[0m\u001b[0mrun\u001b[0m\u001b[0;34m(\u001b[0m\u001b[0mcmd\u001b[0m\u001b[0;34m,\u001b[0m \u001b[0mcheck\u001b[0m\u001b[0;34m=\u001b[0m\u001b[0;32mTrue\u001b[0m\u001b[0;34m)\u001b[0m\u001b[0;34m\u001b[0m\u001b[0;34m\u001b[0m\u001b[0m\n\u001b[0m\u001b[1;32m     38\u001b[0m \u001b[0;34m\u001b[0m\u001b[0m\n\u001b[1;32m     39\u001b[0m     \u001b[0;31m# 첫 번째 포즈(라인 시작이 \"1\")에서 affinity 추출\u001b[0m\u001b[0;34m\u001b[0m\u001b[0;34m\u001b[0m\u001b[0m\n",
            "\u001b[0;32m/usr/lib/python3.11/subprocess.py\u001b[0m in \u001b[0;36mrun\u001b[0;34m(input, capture_output, timeout, check, *popenargs, **kwargs)\u001b[0m\n\u001b[1;32m    569\u001b[0m         \u001b[0mretcode\u001b[0m \u001b[0;34m=\u001b[0m \u001b[0mprocess\u001b[0m\u001b[0;34m.\u001b[0m\u001b[0mpoll\u001b[0m\u001b[0;34m(\u001b[0m\u001b[0;34m)\u001b[0m\u001b[0;34m\u001b[0m\u001b[0;34m\u001b[0m\u001b[0m\n\u001b[1;32m    570\u001b[0m         \u001b[0;32mif\u001b[0m \u001b[0mcheck\u001b[0m \u001b[0;32mand\u001b[0m \u001b[0mretcode\u001b[0m\u001b[0;34m:\u001b[0m\u001b[0;34m\u001b[0m\u001b[0;34m\u001b[0m\u001b[0m\n\u001b[0;32m--> 571\u001b[0;31m             raise CalledProcessError(retcode, process.args,\n\u001b[0m\u001b[1;32m    572\u001b[0m                                      output=stdout, stderr=stderr)\n\u001b[1;32m    573\u001b[0m     \u001b[0;32mreturn\u001b[0m \u001b[0mCompletedProcess\u001b[0m\u001b[0;34m(\u001b[0m\u001b[0mprocess\u001b[0m\u001b[0;34m.\u001b[0m\u001b[0margs\u001b[0m\u001b[0;34m,\u001b[0m \u001b[0mretcode\u001b[0m\u001b[0;34m,\u001b[0m \u001b[0mstdout\u001b[0m\u001b[0;34m,\u001b[0m \u001b[0mstderr\u001b[0m\u001b[0;34m)\u001b[0m\u001b[0;34m\u001b[0m\u001b[0;34m\u001b[0m\u001b[0m\n",
            "\u001b[0;31mCalledProcessError\u001b[0m: Command '['vina', '--receptor', '/content/receptor.pdbqt', '--ligand', '/content/output_folder/TRAIN_1423.pdbqt', '--out', '/content/out_path/TRAIN_1423_out.pdbqt', '--log', '/content/out_path/TRAIN_1423.log', '--center_x', '22.57', '--center_y', '22.77', '--center_z', '11.81', '--size_x', '5.58', '--size_y', '13.38', '--size_z', '10.5', '--exhaustiveness', '8']' returned non-zero exit status 1."
          ]
        }
      ]
    },
    {
      "cell_type": "code",
      "source": [
        "!apt-get update\n",
        "!apt-get install -y autodock-vina\n"
      ],
      "metadata": {
        "id": "7MRfYrJkecnf",
        "outputId": "4442ab86-8a6f-4702-abdd-7d719fdf451d",
        "colab": {
          "base_uri": "https://localhost:8080/"
        }
      },
      "id": "7MRfYrJkecnf",
      "execution_count": 25,
      "outputs": [
        {
          "output_type": "stream",
          "name": "stdout",
          "text": [
            "\r0% [Working]\r            \rHit:1 https://cloud.r-project.org/bin/linux/ubuntu jammy-cran40/ InRelease\n",
            "Hit:2 https://developer.download.nvidia.com/compute/cuda/repos/ubuntu2204/x86_64  InRelease\n",
            "Hit:3 http://archive.ubuntu.com/ubuntu jammy InRelease\n",
            "Hit:4 http://security.ubuntu.com/ubuntu jammy-security InRelease\n",
            "Hit:5 http://archive.ubuntu.com/ubuntu jammy-updates InRelease\n",
            "Hit:6 https://r2u.stat.illinois.edu/ubuntu jammy InRelease\n",
            "Hit:7 http://archive.ubuntu.com/ubuntu jammy-backports InRelease\n",
            "Hit:8 https://ppa.launchpadcontent.net/deadsnakes/ppa/ubuntu jammy InRelease\n",
            "Hit:9 https://ppa.launchpadcontent.net/graphics-drivers/ppa/ubuntu jammy InRelease\n",
            "Hit:10 https://ppa.launchpadcontent.net/ubuntugis/ppa/ubuntu jammy InRelease\n",
            "Reading package lists... Done\n",
            "W: Skipping acquire of configured file 'main/source/Sources' as repository 'https://r2u.stat.illinois.edu/ubuntu jammy InRelease' does not seem to provide it (sources.list entry misspelt?)\n",
            "Reading package lists... Done\n",
            "Building dependency tree... Done\n",
            "Reading state information... Done\n",
            "Suggested packages:\n",
            "  autodock autogrid\n",
            "The following NEW packages will be installed:\n",
            "  autodock-vina\n",
            "0 upgraded, 1 newly installed, 0 to remove and 41 not upgraded.\n",
            "Need to get 282 kB of archives.\n",
            "After this operation, 714 kB of additional disk space will be used.\n",
            "Get:1 http://archive.ubuntu.com/ubuntu jammy/universe amd64 autodock-vina amd64 1.2.3-2 [282 kB]\n",
            "Fetched 282 kB in 1s (555 kB/s)\n",
            "Selecting previously unselected package autodock-vina.\n",
            "(Reading database ... 126281 files and directories currently installed.)\n",
            "Preparing to unpack .../autodock-vina_1.2.3-2_amd64.deb ...\n",
            "Unpacking autodock-vina (1.2.3-2) ...\n",
            "Setting up autodock-vina (1.2.3-2) ...\n",
            "Processing triggers for man-db (2.10.2-1) ...\n"
          ]
        }
      ]
    }
  ],
  "metadata": {
    "kernelspec": {
      "display_name": "Python 3",
      "language": "python",
      "name": "python3"
    },
    "language_info": {
      "codemirror_mode": {
        "name": "ipython",
        "version": 2
      },
      "file_extension": ".py",
      "mimetype": "text/x-python",
      "name": "python",
      "nbconvert_exporter": "python",
      "pygments_lexer": "ipython2",
      "version": "2.7.6"
    },
    "colab": {
      "provenance": [],
      "include_colab_link": true
    }
  },
  "nbformat": 4,
  "nbformat_minor": 5
}