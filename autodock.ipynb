{
 "cells": [
  {
   "metadata": {
    "ExecuteTime": {
     "end_time": "2025-07-06T08:26:15.785301Z",
     "start_time": "2025-07-06T08:26:14.308315Z"
    }
   },
   "cell_type": "code",
   "source": [
    "import os\n",
    "import pandas as pd\n",
    "from rdkit import Chem\n",
    "import subprocess\n",
    "from rdkit.Chem import AllChem\n",
    "from tqdm import tqdm"
   ],
   "id": "48503e8970c99320",
   "outputs": [
    {
     "name": "stderr",
     "output_type": "stream",
     "text": [
      "\n",
      "A module that was compiled using NumPy 1.x cannot be run in\n",
      "NumPy 2.3.1 as it may crash. To support both 1.x and 2.x\n",
      "versions of NumPy, modules must be compiled with NumPy 2.0.\n",
      "Some module may need to rebuild instead e.g. with 'pybind11>=2.12'.\n",
      "\n",
      "If you are a user of the module, the easiest solution will be to\n",
      "downgrade to 'numpy<2' or try to upgrade the affected module.\n",
      "We expect that some modules will need time to support NumPy 2.\n",
      "\n",
      "Traceback (most recent call last):  File \"<frozen runpy>\", line 198, in _run_module_as_main\n",
      "  File \"<frozen runpy>\", line 88, in _run_code\n",
      "  File \"C:\\Users\\ichan\\anaconda3\\Lib\\site-packages\\ipykernel_launcher.py\", line 17, in <module>\n",
      "    app.launch_new_instance()\n",
      "  File \"C:\\Users\\ichan\\anaconda3\\Lib\\site-packages\\traitlets\\config\\application.py\", line 992, in launch_instance\n",
      "    app.start()\n",
      "  File \"C:\\Users\\ichan\\anaconda3\\Lib\\site-packages\\ipykernel\\kernelapp.py\", line 701, in start\n",
      "    self.io_loop.start()\n",
      "  File \"C:\\Users\\ichan\\anaconda3\\Lib\\site-packages\\tornado\\platform\\asyncio.py\", line 195, in start\n",
      "    self.asyncio_loop.run_forever()\n",
      "  File \"C:\\Users\\ichan\\anaconda3\\Lib\\asyncio\\windows_events.py\", line 321, in run_forever\n",
      "    super().run_forever()\n",
      "  File \"C:\\Users\\ichan\\anaconda3\\Lib\\asyncio\\base_events.py\", line 607, in run_forever\n",
      "    self._run_once()\n",
      "  File \"C:\\Users\\ichan\\anaconda3\\Lib\\asyncio\\base_events.py\", line 1922, in _run_once\n",
      "    handle._run()\n",
      "  File \"C:\\Users\\ichan\\anaconda3\\Lib\\asyncio\\events.py\", line 80, in _run\n",
      "    self._context.run(self._callback, *self._args)\n",
      "  File \"C:\\Users\\ichan\\anaconda3\\Lib\\site-packages\\ipykernel\\kernelbase.py\", line 534, in dispatch_queue\n",
      "    await self.process_one()\n",
      "  File \"C:\\Users\\ichan\\anaconda3\\Lib\\site-packages\\ipykernel\\kernelbase.py\", line 523, in process_one\n",
      "    await dispatch(*args)\n",
      "  File \"C:\\Users\\ichan\\anaconda3\\Lib\\site-packages\\ipykernel\\kernelbase.py\", line 429, in dispatch_shell\n",
      "    await result\n",
      "  File \"C:\\Users\\ichan\\anaconda3\\Lib\\site-packages\\ipykernel\\kernelbase.py\", line 767, in execute_request\n",
      "    reply_content = await reply_content\n",
      "  File \"C:\\Users\\ichan\\anaconda3\\Lib\\site-packages\\ipykernel\\ipkernel.py\", line 429, in do_execute\n",
      "    res = shell.run_cell(\n",
      "  File \"C:\\Users\\ichan\\anaconda3\\Lib\\site-packages\\ipykernel\\zmqshell.py\", line 549, in run_cell\n",
      "    return super().run_cell(*args, **kwargs)\n",
      "  File \"C:\\Users\\ichan\\anaconda3\\Lib\\site-packages\\IPython\\core\\interactiveshell.py\", line 3051, in run_cell\n",
      "    result = self._run_cell(\n",
      "  File \"C:\\Users\\ichan\\anaconda3\\Lib\\site-packages\\IPython\\core\\interactiveshell.py\", line 3106, in _run_cell\n",
      "    result = runner(coro)\n",
      "  File \"C:\\Users\\ichan\\anaconda3\\Lib\\site-packages\\IPython\\core\\async_helpers.py\", line 129, in _pseudo_sync_runner\n",
      "    coro.send(None)\n",
      "  File \"C:\\Users\\ichan\\anaconda3\\Lib\\site-packages\\IPython\\core\\interactiveshell.py\", line 3311, in run_cell_async\n",
      "    has_raised = await self.run_ast_nodes(code_ast.body, cell_name,\n",
      "  File \"C:\\Users\\ichan\\anaconda3\\Lib\\site-packages\\IPython\\core\\interactiveshell.py\", line 3493, in run_ast_nodes\n",
      "    if await self.run_code(code, result, async_=asy):\n",
      "  File \"C:\\Users\\ichan\\anaconda3\\Lib\\site-packages\\IPython\\core\\interactiveshell.py\", line 3553, in run_code\n",
      "    exec(code_obj, self.user_global_ns, self.user_ns)\n",
      "  File \"C:\\Users\\ichan\\AppData\\Local\\Temp\\ipykernel_12040\\3666803963.py\", line 2, in <module>\n",
      "    import pandas as pd\n",
      "  File \"C:\\Users\\ichan\\anaconda3\\Lib\\site-packages\\pandas\\__init__.py\", line 36, in <module>\n",
      "    from pandas.compat import (\n",
      "  File \"C:\\Users\\ichan\\anaconda3\\Lib\\site-packages\\pandas\\compat\\__init__.py\", line 27, in <module>\n",
      "    from pandas.compat.pyarrow import (\n",
      "  File \"C:\\Users\\ichan\\anaconda3\\Lib\\site-packages\\pandas\\compat\\pyarrow.py\", line 8, in <module>\n",
      "    import pyarrow as pa\n",
      "  File \"C:\\Users\\ichan\\anaconda3\\Lib\\site-packages\\pyarrow\\__init__.py\", line 65, in <module>\n",
      "    import pyarrow.lib as _lib\n"
     ]
    },
    {
     "ename": "AttributeError",
     "evalue": "_ARRAY_API not found",
     "output_type": "error",
     "traceback": [
      "\u001B[1;31m---------------------------------------------------------------------------\u001B[0m",
      "\u001B[1;31mAttributeError\u001B[0m                            Traceback (most recent call last)",
      "\u001B[1;31mAttributeError\u001B[0m: _ARRAY_API not found"
     ]
    },
    {
     "ename": "ValueError",
     "evalue": "numpy.dtype size changed, may indicate binary incompatibility. Expected 96 from C header, got 88 from PyObject",
     "output_type": "error",
     "traceback": [
      "\u001B[1;31m---------------------------------------------------------------------------\u001B[0m",
      "\u001B[1;31mValueError\u001B[0m                                Traceback (most recent call last)",
      "Cell \u001B[1;32mIn[1], line 2\u001B[0m\n\u001B[0;32m      1\u001B[0m \u001B[38;5;28;01mimport\u001B[39;00m \u001B[38;5;21;01mos\u001B[39;00m\n\u001B[1;32m----> 2\u001B[0m \u001B[38;5;28;01mimport\u001B[39;00m \u001B[38;5;21;01mpandas\u001B[39;00m \u001B[38;5;28;01mas\u001B[39;00m \u001B[38;5;21;01mpd\u001B[39;00m\n\u001B[0;32m      3\u001B[0m \u001B[38;5;28;01mfrom\u001B[39;00m \u001B[38;5;21;01mrdkit\u001B[39;00m \u001B[38;5;28;01mimport\u001B[39;00m Chem\n\u001B[0;32m      4\u001B[0m \u001B[38;5;28;01mimport\u001B[39;00m \u001B[38;5;21;01msubprocess\u001B[39;00m\n",
      "File \u001B[1;32m~\\anaconda3\\Lib\\site-packages\\pandas\\__init__.py:59\u001B[0m\n\u001B[0;32m     56\u001B[0m \u001B[38;5;66;03m# let init-time option registration happen\u001B[39;00m\n\u001B[0;32m     57\u001B[0m \u001B[38;5;28;01mimport\u001B[39;00m \u001B[38;5;21;01mpandas\u001B[39;00m\u001B[38;5;21;01m.\u001B[39;00m\u001B[38;5;21;01mcore\u001B[39;00m\u001B[38;5;21;01m.\u001B[39;00m\u001B[38;5;21;01mconfig_init\u001B[39;00m  \u001B[38;5;66;03m# pyright: ignore[reportUnusedImport] # noqa: F401\u001B[39;00m\n\u001B[1;32m---> 59\u001B[0m \u001B[38;5;28;01mfrom\u001B[39;00m \u001B[38;5;21;01mpandas\u001B[39;00m\u001B[38;5;21;01m.\u001B[39;00m\u001B[38;5;21;01mcore\u001B[39;00m\u001B[38;5;21;01m.\u001B[39;00m\u001B[38;5;21;01mapi\u001B[39;00m \u001B[38;5;28;01mimport\u001B[39;00m (\n\u001B[0;32m     60\u001B[0m     \u001B[38;5;66;03m# dtype\u001B[39;00m\n\u001B[0;32m     61\u001B[0m     ArrowDtype,\n\u001B[0;32m     62\u001B[0m     Int8Dtype,\n\u001B[0;32m     63\u001B[0m     Int16Dtype,\n\u001B[0;32m     64\u001B[0m     Int32Dtype,\n\u001B[0;32m     65\u001B[0m     Int64Dtype,\n\u001B[0;32m     66\u001B[0m     UInt8Dtype,\n\u001B[0;32m     67\u001B[0m     UInt16Dtype,\n\u001B[0;32m     68\u001B[0m     UInt32Dtype,\n\u001B[0;32m     69\u001B[0m     UInt64Dtype,\n\u001B[0;32m     70\u001B[0m     Float32Dtype,\n\u001B[0;32m     71\u001B[0m     Float64Dtype,\n\u001B[0;32m     72\u001B[0m     CategoricalDtype,\n\u001B[0;32m     73\u001B[0m     PeriodDtype,\n\u001B[0;32m     74\u001B[0m     IntervalDtype,\n\u001B[0;32m     75\u001B[0m     DatetimeTZDtype,\n\u001B[0;32m     76\u001B[0m     StringDtype,\n\u001B[0;32m     77\u001B[0m     BooleanDtype,\n\u001B[0;32m     78\u001B[0m     \u001B[38;5;66;03m# missing\u001B[39;00m\n\u001B[0;32m     79\u001B[0m     NA,\n\u001B[0;32m     80\u001B[0m     isna,\n\u001B[0;32m     81\u001B[0m     isnull,\n\u001B[0;32m     82\u001B[0m     notna,\n\u001B[0;32m     83\u001B[0m     notnull,\n\u001B[0;32m     84\u001B[0m     \u001B[38;5;66;03m# indexes\u001B[39;00m\n\u001B[0;32m     85\u001B[0m     Index,\n\u001B[0;32m     86\u001B[0m     CategoricalIndex,\n\u001B[0;32m     87\u001B[0m     RangeIndex,\n\u001B[0;32m     88\u001B[0m     MultiIndex,\n\u001B[0;32m     89\u001B[0m     IntervalIndex,\n\u001B[0;32m     90\u001B[0m     TimedeltaIndex,\n\u001B[0;32m     91\u001B[0m     DatetimeIndex,\n\u001B[0;32m     92\u001B[0m     PeriodIndex,\n\u001B[0;32m     93\u001B[0m     IndexSlice,\n\u001B[0;32m     94\u001B[0m     \u001B[38;5;66;03m# tseries\u001B[39;00m\n\u001B[0;32m     95\u001B[0m     NaT,\n\u001B[0;32m     96\u001B[0m     Period,\n\u001B[0;32m     97\u001B[0m     period_range,\n\u001B[0;32m     98\u001B[0m     Timedelta,\n\u001B[0;32m     99\u001B[0m     timedelta_range,\n\u001B[0;32m    100\u001B[0m     Timestamp,\n\u001B[0;32m    101\u001B[0m     date_range,\n\u001B[0;32m    102\u001B[0m     bdate_range,\n\u001B[0;32m    103\u001B[0m     Interval,\n\u001B[0;32m    104\u001B[0m     interval_range,\n\u001B[0;32m    105\u001B[0m     DateOffset,\n\u001B[0;32m    106\u001B[0m     \u001B[38;5;66;03m# conversion\u001B[39;00m\n\u001B[0;32m    107\u001B[0m     to_numeric,\n\u001B[0;32m    108\u001B[0m     to_datetime,\n\u001B[0;32m    109\u001B[0m     to_timedelta,\n\u001B[0;32m    110\u001B[0m     \u001B[38;5;66;03m# misc\u001B[39;00m\n\u001B[0;32m    111\u001B[0m     Flags,\n\u001B[0;32m    112\u001B[0m     Grouper,\n\u001B[0;32m    113\u001B[0m     factorize,\n\u001B[0;32m    114\u001B[0m     unique,\n\u001B[0;32m    115\u001B[0m     value_counts,\n\u001B[0;32m    116\u001B[0m     NamedAgg,\n\u001B[0;32m    117\u001B[0m     array,\n\u001B[0;32m    118\u001B[0m     Categorical,\n\u001B[0;32m    119\u001B[0m     set_eng_float_format,\n\u001B[0;32m    120\u001B[0m     Series,\n\u001B[0;32m    121\u001B[0m     DataFrame,\n\u001B[0;32m    122\u001B[0m )\n\u001B[0;32m    124\u001B[0m \u001B[38;5;28;01mfrom\u001B[39;00m \u001B[38;5;21;01mpandas\u001B[39;00m\u001B[38;5;21;01m.\u001B[39;00m\u001B[38;5;21;01mcore\u001B[39;00m\u001B[38;5;21;01m.\u001B[39;00m\u001B[38;5;21;01mdtypes\u001B[39;00m\u001B[38;5;21;01m.\u001B[39;00m\u001B[38;5;21;01mdtypes\u001B[39;00m \u001B[38;5;28;01mimport\u001B[39;00m SparseDtype\n\u001B[0;32m    126\u001B[0m \u001B[38;5;28;01mfrom\u001B[39;00m \u001B[38;5;21;01mpandas\u001B[39;00m\u001B[38;5;21;01m.\u001B[39;00m\u001B[38;5;21;01mtseries\u001B[39;00m\u001B[38;5;21;01m.\u001B[39;00m\u001B[38;5;21;01mapi\u001B[39;00m \u001B[38;5;28;01mimport\u001B[39;00m infer_freq\n",
      "File \u001B[1;32m~\\anaconda3\\Lib\\site-packages\\pandas\\core\\api.py:1\u001B[0m\n\u001B[1;32m----> 1\u001B[0m \u001B[38;5;28;01mfrom\u001B[39;00m \u001B[38;5;21;01mpandas\u001B[39;00m\u001B[38;5;21;01m.\u001B[39;00m\u001B[38;5;21;01m_libs\u001B[39;00m \u001B[38;5;28;01mimport\u001B[39;00m (\n\u001B[0;32m      2\u001B[0m     NaT,\n\u001B[0;32m      3\u001B[0m     Period,\n\u001B[0;32m      4\u001B[0m     Timedelta,\n\u001B[0;32m      5\u001B[0m     Timestamp,\n\u001B[0;32m      6\u001B[0m )\n\u001B[0;32m      7\u001B[0m \u001B[38;5;28;01mfrom\u001B[39;00m \u001B[38;5;21;01mpandas\u001B[39;00m\u001B[38;5;21;01m.\u001B[39;00m\u001B[38;5;21;01m_libs\u001B[39;00m\u001B[38;5;21;01m.\u001B[39;00m\u001B[38;5;21;01mmissing\u001B[39;00m \u001B[38;5;28;01mimport\u001B[39;00m NA\n\u001B[0;32m      9\u001B[0m \u001B[38;5;28;01mfrom\u001B[39;00m \u001B[38;5;21;01mpandas\u001B[39;00m\u001B[38;5;21;01m.\u001B[39;00m\u001B[38;5;21;01mcore\u001B[39;00m\u001B[38;5;21;01m.\u001B[39;00m\u001B[38;5;21;01mdtypes\u001B[39;00m\u001B[38;5;21;01m.\u001B[39;00m\u001B[38;5;21;01mdtypes\u001B[39;00m \u001B[38;5;28;01mimport\u001B[39;00m (\n\u001B[0;32m     10\u001B[0m     ArrowDtype,\n\u001B[0;32m     11\u001B[0m     CategoricalDtype,\n\u001B[1;32m   (...)\u001B[0m\n\u001B[0;32m     14\u001B[0m     PeriodDtype,\n\u001B[0;32m     15\u001B[0m )\n",
      "File \u001B[1;32m~\\anaconda3\\Lib\\site-packages\\pandas\\_libs\\__init__.py:18\u001B[0m\n\u001B[0;32m     16\u001B[0m \u001B[38;5;28;01mimport\u001B[39;00m \u001B[38;5;21;01mpandas\u001B[39;00m\u001B[38;5;21;01m.\u001B[39;00m\u001B[38;5;21;01m_libs\u001B[39;00m\u001B[38;5;21;01m.\u001B[39;00m\u001B[38;5;21;01mpandas_parser\u001B[39;00m  \u001B[38;5;66;03m# noqa: E501 # isort: skip # type: ignore[reportUnusedImport]\u001B[39;00m\n\u001B[0;32m     17\u001B[0m \u001B[38;5;28;01mimport\u001B[39;00m \u001B[38;5;21;01mpandas\u001B[39;00m\u001B[38;5;21;01m.\u001B[39;00m\u001B[38;5;21;01m_libs\u001B[39;00m\u001B[38;5;21;01m.\u001B[39;00m\u001B[38;5;21;01mpandas_datetime\u001B[39;00m  \u001B[38;5;66;03m# noqa: F401,E501 # isort: skip # type: ignore[reportUnusedImport]\u001B[39;00m\n\u001B[1;32m---> 18\u001B[0m \u001B[38;5;28;01mfrom\u001B[39;00m \u001B[38;5;21;01mpandas\u001B[39;00m\u001B[38;5;21;01m.\u001B[39;00m\u001B[38;5;21;01m_libs\u001B[39;00m\u001B[38;5;21;01m.\u001B[39;00m\u001B[38;5;21;01minterval\u001B[39;00m \u001B[38;5;28;01mimport\u001B[39;00m Interval\n\u001B[0;32m     19\u001B[0m \u001B[38;5;28;01mfrom\u001B[39;00m \u001B[38;5;21;01mpandas\u001B[39;00m\u001B[38;5;21;01m.\u001B[39;00m\u001B[38;5;21;01m_libs\u001B[39;00m\u001B[38;5;21;01m.\u001B[39;00m\u001B[38;5;21;01mtslibs\u001B[39;00m \u001B[38;5;28;01mimport\u001B[39;00m (\n\u001B[0;32m     20\u001B[0m     NaT,\n\u001B[0;32m     21\u001B[0m     NaTType,\n\u001B[1;32m   (...)\u001B[0m\n\u001B[0;32m     26\u001B[0m     iNaT,\n\u001B[0;32m     27\u001B[0m )\n",
      "File \u001B[1;32minterval.pyx:1\u001B[0m, in \u001B[0;36minit pandas._libs.interval\u001B[1;34m()\u001B[0m\n",
      "\u001B[1;31mValueError\u001B[0m: numpy.dtype size changed, may indicate binary incompatibility. Expected 96 from C header, got 88 from PyObject"
     ]
    }
   ],
   "execution_count": 1
  },
  {
   "metadata": {
    "ExecuteTime": {
     "end_time": "2025-07-06T08:25:05.650648100Z",
     "start_time": "2025-07-06T08:22:54.386111Z"
    }
   },
   "cell_type": "code",
   "source": [
    "# 1) 환경 설정\n",
    "vina_path      = r\"C:\\Program Files (x86)\\The Scripps Research Institute\\vina.exe\"\n",
    "receptor_pdbqt = r\"C:\\Users\\ichan\\Desktop\\data\\receptor.pdbqt\"\n",
    "csv_path       = r\"C:\\Users\\ichan\\Desktop\\data\\train.csv\"\n",
    "\n",
    "# 2) 출력 폴더 준비\n",
    "output_folder = \"./vina_output\"\n",
    "ligand_folder = \"./ligands\"\n",
    "os.makedirs(output_folder, exist_ok=True)\n",
    "os.makedirs(ligand_folder, exist_ok=True)\n",
    "\n",
    "# 3) grid box (예시)\n",
    "center = (22.57, 22.77, 11.81)\n",
    "size   = (5.58, 13.38, 10.50)\n",
    "\n",
    "df, results = pd.read_csv(csv_path), []\n",
    "\n",
    "for idx, row in tqdm(df.iterrows(), total=len(df)):\n",
    "    smiles = row[\"Canonical_SMILES\"]\n",
    "    try:\n",
    "        # 1) RDKit로 3D 구조 생성\n",
    "        mol = Chem.AddHs(Chem.MolFromSmiles(smiles))\n",
    "        AllChem.EmbedMolecule(mol, AllChem.ETKDG())\n",
    "        AllChem.UFFOptimizeMolecule(mol)\n",
    "\n",
    "        # 2) 순수 PDB 파일로 저장\n",
    "        pdb_file   = os.path.join(ligand_folder, f\"ligand_{idx}.pdb\")\n",
    "        pdbqt_file = os.path.join(ligand_folder, f\"ligand_{idx}.pdbqt\")\n",
    "        out_pdbqt  = os.path.join(output_folder,  f\"ligand_{idx}_out.pdbqt\")\n",
    "        log_file   = os.path.join(output_folder,  f\"ligand_{idx}.log\")\n",
    "\n",
    "        Chem.MolToPDBFile(mol, pdb_file)\n",
    "\n",
    "        # 3) OBabel로 PDB→PDBQT 변환\n",
    "        subprocess.run([\n",
    "            \"obabel\", pdb_file,\n",
    "            \"-O\", pdbqt_file,\n",
    "            \"--partialcharge\", \"gasteiger\"\n",
    "        ], check=True, capture_output=True)\n",
    "\n",
    "        # 4) Vina 도킹\n",
    "        cmd = [\n",
    "            vina_path,\n",
    "            \"--receptor\", receptor_pdbqt,\n",
    "            \"--ligand\",   pdbqt_file,\n",
    "            \"--out\",      out_pdbqt,\n",
    "            \"--log\",      log_file,\n",
    "            \"--center_x\", str(center[0]),\n",
    "            \"--center_y\", str(center[1]),\n",
    "            \"--center_z\", str(center[2]),\n",
    "            \"--size_x\",   str(size[0]),\n",
    "            \"--size_y\",   str(size[1]),\n",
    "            \"--size_z\",   str(size[2]),\n",
    "            \"--exhaustiveness\", \"4\"\n",
    "        ]\n",
    "        subprocess.run(cmd, check=True, capture_output=True)\n",
    "\n",
    "        # 5) affinity 추출\n",
    "        affinity = None\n",
    "        with open(log_file) as f:\n",
    "            for line in f:\n",
    "                if line.strip().startswith(\"1\"):\n",
    "                    affinity = float(line.split()[1])\n",
    "                    break\n",
    "\n",
    "        results.append({\n",
    "            \"Index\":    idx,\n",
    "            \"SMILES\":   smiles,\n",
    "            \"Affinity\": affinity\n",
    "        })\n",
    "\n",
    "    except subprocess.CalledProcessError as e:\n",
    "        print(f\"[오류 {idx}] OBabel/Vina 실패\\n\", e.stderr.decode())\n",
    "        results.append({\"Index\": idx, \"SMILES\": smiles, \"Affinity\": None})\n",
    "    except Exception as e:\n",
    "        print(f\"[예외 {idx}]: {e}\")\n",
    "        results.append({\"Index\": idx, \"SMILES\": smiles, \"Affinity\": None})\n",
    "\n",
    "# 결과 저장\n",
    "pd.DataFrame(results).to_csv(\"docking_results.csv\", index=False)\n",
    "print(\"✅ 도킹 파이프라인 완료 – docking_results.csv 생성됨\")\n"
   ],
   "id": "aa08e44a6994f207",
   "outputs": [
    {
     "name": "stderr",
     "output_type": "stream",
     "text": [
      "  0%|          | 1/1681 [00:00<25:59,  1.08it/s]"
     ]
    },
    {
     "name": "stdout",
     "output_type": "stream",
     "text": [
      "[Vina/OBabel 에러 0]\n",
      " \r\n",
      "\r\n",
      "Parse error on line 22 in file \".\\ligands\\ligand_0.pdbqt\": Unknown or inappropriate tag\r\n",
      "\n"
     ]
    },
    {
     "name": "stderr",
     "output_type": "stream",
     "text": [
      "  0%|          | 3/1681 [00:26<5:07:33, 11.00s/it]"
     ]
    }
   ],
   "execution_count": null
  }
 ],
 "metadata": {
  "kernelspec": {
   "display_name": "Python 3",
   "language": "python",
   "name": "python3"
  },
  "language_info": {
   "codemirror_mode": {
    "name": "ipython",
    "version": 2
   },
   "file_extension": ".py",
   "mimetype": "text/x-python",
   "name": "python",
   "nbconvert_exporter": "python",
   "pygments_lexer": "ipython2",
   "version": "2.7.6"
  }
 },
 "nbformat": 4,
 "nbformat_minor": 5
}
