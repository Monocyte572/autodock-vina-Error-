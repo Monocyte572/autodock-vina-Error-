{
  "cells": [
    {
      "cell_type": "markdown",
      "metadata": {
        "id": "view-in-github",
        "colab_type": "text"
      },
      "source": [
        "<a href=\"https://colab.research.google.com/github/Monocyte572/autodock-vina-Error-/blob/main/autodock.ipynb\" target=\"_parent\"><img src=\"https://colab.research.google.com/assets/colab-badge.svg\" alt=\"Open In Colab\"/></a>"
      ]
    },
    {
      "metadata": {
        "id": "9d18a880beef98be"
      },
      "cell_type": "markdown",
      "source": [
        "# smiles to pdbqt"
      ],
      "id": "9d18a880beef98be"
    },
    {
      "metadata": {
        "ExecuteTime": {
          "end_time": "2025-07-09T08:08:09.338520Z",
          "start_time": "2025-07-09T08:08:09.090349Z"
        },
        "colab": {
          "base_uri": "https://localhost:8080/"
        },
        "id": "df154768b2990a9a",
        "outputId": "79e6a4fc-a659-42ad-ecf3-c618b0ab73d2"
      },
      "cell_type": "code",
      "source": [
        "import pandas as pd\n",
        "from rdkit import Chem\n",
        "from rdkit.Chem import AllChem\n",
        "from rdkit.Chem import MolToPDBBlock\n",
        "import os\n",
        "import traceback\n",
        "\n",
        "csv_path = \"/content/train.csv\"\n",
        "output_folder = \"/content/output_folder\"\n",
        "\n",
        "df = pd.read_csv(csv_path)\n",
        "\n",
        "os.makedirs(output_folder, exist_ok=True)\n",
        "\n",
        "log_file = os.path.join(output_folder, \"error_log.txt\")\n",
        "\n",
        "success_df = pd.DataFrame(columns=df.columns)\n",
        "\n",
        "with open(log_file, \"w\") as log:\n",
        "    for index, row in df.iterrows():\n",
        "        smiles = row[\"Canonical_Smiles\"]\n",
        "        compound_name = row[\"ID\"]\n",
        "\n",
        "        try:\n",
        "            if pd.isna(smiles) or not Chem.MolFromSmiles(smiles):\n",
        "                raise ValueError(f\"Invalid SMILES in row {index + 2}\")\n",
        "\n",
        "            mol = Chem.MolFromSmiles(smiles)\n",
        "            mol = Chem.AddHs(mol)\n",
        "            AllChem.EmbedMolecule(mol)\n",
        "\n",
        "            pdbqt_filename = os.path.join(output_folder, f\"{compound_name}.pdbqt\")\n",
        "            with open(pdbqt_filename, \"w\") as pdbqt_file:\n",
        "                pdbqt_file.write(MolToPDBBlock(mol))\n",
        "\n",
        "\n",
        "            success_df = success_df.append(row, ignore_index=True)\n",
        "\n",
        "        except Exception as e:\n",
        "            log.write(f\"Error processing row {index + 2}: {str(e)}\\n\")\n",
        "            traceback.print_exc(file=log)\n",
        "\n",
        "\n",
        "success_df.to_csv(csv_path, index=False)\n",
        "\n",
        "print(\"Conversion complete. Check the error log for details.\")\n"
      ],
      "id": "df154768b2990a9a",
      "outputs": [
        {
          "output_type": "stream",
          "name": "stdout",
          "text": [
            "Conversion complete. Check the error log for details.\n"
          ]
        }
      ],
      "execution_count": 4
    },
    {
      "cell_type": "code",
      "metadata": {
        "colab": {
          "base_uri": "https://localhost:8080/"
        },
        "id": "b5ad723f",
        "outputId": "8a12d75b-19fc-4230-8aa7-f9f3bfb00a50"
      },
      "source": [
        "!pip install rdkit"
      ],
      "id": "b5ad723f",
      "execution_count": 2,
      "outputs": [
        {
          "output_type": "stream",
          "name": "stdout",
          "text": [
            "Collecting rdkit\n",
            "  Downloading rdkit-2025.3.3-cp311-cp311-manylinux_2_28_x86_64.whl.metadata (4.0 kB)\n",
            "Requirement already satisfied: numpy in /usr/local/lib/python3.11/dist-packages (from rdkit) (2.0.2)\n",
            "Requirement already satisfied: Pillow in /usr/local/lib/python3.11/dist-packages (from rdkit) (11.2.1)\n",
            "Downloading rdkit-2025.3.3-cp311-cp311-manylinux_2_28_x86_64.whl (34.9 MB)\n",
            "\u001b[2K   \u001b[90m━━━━━━━━━━━━━━━━━━━━━━━━━━━━━━━━━━━━━━━━\u001b[0m \u001b[32m34.9/34.9 MB\u001b[0m \u001b[31m69.9 MB/s\u001b[0m eta \u001b[36m0:00:00\u001b[0m\n",
            "\u001b[?25hInstalling collected packages: rdkit\n",
            "Successfully installed rdkit-2025.3.3\n"
          ]
        }
      ]
    },
    {
      "cell_type": "markdown",
      "source": [
        "# autodock vina"
      ],
      "metadata": {
        "id": "aF-no1r6VwcY"
      },
      "id": "aF-no1r6VwcY"
    },
    {
      "cell_type": "code",
      "source": [],
      "metadata": {
        "id": "musecvyZSXBg"
      },
      "id": "musecvyZSXBg",
      "execution_count": null,
      "outputs": []
    }
  ],
  "metadata": {
    "kernelspec": {
      "display_name": "Python 3",
      "language": "python",
      "name": "python3"
    },
    "language_info": {
      "codemirror_mode": {
        "name": "ipython",
        "version": 2
      },
      "file_extension": ".py",
      "mimetype": "text/x-python",
      "name": "python",
      "nbconvert_exporter": "python",
      "pygments_lexer": "ipython2",
      "version": "2.7.6"
    },
    "colab": {
      "provenance": [],
      "include_colab_link": true
    }
  },
  "nbformat": 4,
  "nbformat_minor": 5
}