{
  "nbformat": 4,
  "nbformat_minor": 0,
  "metadata": {
    "colab": {
      "provenance": [],
      "authorship_tag": "ABX9TyNgflW5VNfelLEy4OSsJ8CH",
      "include_colab_link": true
    },
    "kernelspec": {
      "name": "python3",
      "display_name": "Python 3"
    },
    "language_info": {
      "name": "python"
    }
  },
  "cells": [
    {
      "cell_type": "markdown",
      "metadata": {
        "id": "view-in-github",
        "colab_type": "text"
      },
      "source": [
        "<a href=\"https://colab.research.google.com/github/Monocyte572/autodock-vina-Error-/blob/main/pdb%20to%20pdbqt.ipynb\" target=\"_parent\"><img src=\"https://colab.research.google.com/assets/colab-badge.svg\" alt=\"Open In Colab\"/></a>"
      ]
    },
    {
      "cell_type": "markdown",
      "source": [
        "# Pdb to pdbqt (Eliminate H2O, Extract binidng site, Comlpete Structure, Optimization, Protonation, Convert)"
      ],
      "metadata": {
        "id": "7k3OQAWAUmKD"
      }
    },
    {
      "cell_type": "code",
      "source": [
        "!git clone https://github.com/ingcoder/dock-prep.git\n",
        "!pip install -e dock_prep"
      ],
      "metadata": {
        "colab": {
          "base_uri": "https://localhost:8080/"
        },
        "id": "vLCTV5cLYjab",
        "outputId": "ee65ff2f-b57d-4a67-934b-5090b6314998"
      },
      "execution_count": 12,
      "outputs": [
        {
          "output_type": "stream",
          "name": "stdout",
          "text": [
            "fatal: destination path 'dock-prep' already exists and is not an empty directory.\n",
            "Obtaining file:///content/dock-prep\n",
            "  Preparing metadata (setup.py) ... \u001b[?25l\u001b[?25hdone\n",
            "Requirement already satisfied: numpy in /usr/local/lib/python3.11/dist-packages (from dock_prep==0.1.0a0) (2.0.2)\n",
            "Collecting biopython (from dock_prep==0.1.0a0)\n",
            "  Using cached biopython-1.85-cp311-cp311-manylinux_2_17_x86_64.manylinux2014_x86_64.whl.metadata (13 kB)\n",
            "INFO: pip is looking at multiple versions of dock-prep to determine which version is compatible with other requirements. This could take a while.\n",
            "\u001b[31mERROR: Could not find a version that satisfies the requirement pdbfixer (from dock-prep) (from versions: none)\u001b[0m\u001b[31m\n",
            "\u001b[0m\u001b[31mERROR: No matching distribution found for pdbfixer\u001b[0m\u001b[31m\n",
            "\u001b[0m"
          ]
        }
      ]
    },
    {
      "cell_type": "code",
      "source": [
        "!dock-prep --file_input 1abc.pdb --verbose --skip_molprobity"
      ],
      "metadata": {
        "id": "40bQ63gPaLNP"
      },
      "execution_count": null,
      "outputs": []
    }
  ]
}